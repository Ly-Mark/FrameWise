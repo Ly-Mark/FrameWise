{
 "cells": [
  {
   "cell_type": "markdown",
   "source": [
    "# League of Legends: Exploring the Relationship Between Kills and Win Rate, Part 2: Linear Regression\n",
    "\n",
    "## Introduction to League of Legends\n",
    "\n",
    "In our previous article, we successfully prepared our dataset of historical player data spanning the 2011 to 2022 Worlds Championships of League of Legends. \n",
    "\n",
    "## Goal of the Project\n",
    "\n",
    "Our project's goal is to discover meaningful relationships that can help us predict match outcomes in League of Legends. Specifically, we aim to answer the question:\n",
    "\n",
    "> What is the connection between a player's average number of kills per game and their corresponding win rate?"
   ],
   "metadata": {
    "collapsed": false
   }
  },
  {
   "cell_type": "code",
   "execution_count": null,
   "metadata": {
    "collapsed": true
   },
   "outputs": [],
   "source": [
    "# Package importing\n",
    "\n",
    "import numpy as np\n",
    "import pandas as pd\n",
    "import seaborn as sns\n",
    "import missingno as msno\n",
    "import plotly.express as px\n"
   ]
  },
  {
   "cell_type": "code",
   "execution_count": null,
   "outputs": [],
   "source": [
    "# Loading the Kaggle dataset\n",
    "df = pd.read_csv(\"E:\\ModelDiversity\\data\\players_stats.csv\")"
   ],
   "metadata": {
    "collapsed": false
   }
  },
  {
   "cell_type": "code",
   "execution_count": null,
   "outputs": [],
   "source": [
    "# Subset missing values\n",
    "missing_values1 = df[df['season']<4]\n",
    "\n",
    "# calculating average team gold per team each season\n",
    "team_gold_1_3 = missing_values1.groupby(['season','team'])['gold'].sum().rename(\"team_gold\")\n",
    "\n",
    "# calculating average team kills per team each season\n",
    "team_kills_1_3 = missing_values1.groupby(['season','team'])['kills'].sum().rename(\"team_kills\")\n",
    "\n",
    "# merging team_gold and team_kills back into dataframe\n",
    "missing_values2 = missing_values1.merge(team_gold_1_3,how='outer',on=['season','team']).merge(team_kills_1_3,how='outer',on=['season','team'])\n",
    "\n",
    "# filling in the gold_share using the calculation above\n",
    "missing_values2['gold_share'] = round(missing_values2['gold']/missing_values2['team_gold'] * 100,2)\n",
    "\n",
    "# filling in the kill_share using the calculation above\n",
    "missing_values2['kill_share'] = round(missing_values2['kills']/missing_values2['team_kills'] * 100,2)\n",
    "\n",
    "# filling in the kill_participation using the calculation above\n",
    "missing_values2['kill_participation'] = round((missing_values2['kills']+missing_values2[\"assists\"])/missing_values2['team_kills'] *100,2)\n"
   ],
   "metadata": {
    "collapsed": false
   }
  },
  {
   "cell_type": "code",
   "execution_count": null,
   "outputs": [],
   "source": [
    "# Updates our existing df\n",
    "df.update(missing_values2)"
   ],
   "metadata": {
    "collapsed": false
   }
  },
  {
   "cell_type": "code",
   "execution_count": null,
   "outputs": [],
   "source": [
    "# subset your dataset to get no missing values\n",
    "df2 = df.drop(['damage','damage/min'],axis=1)"
   ],
   "metadata": {
    "collapsed": false
   }
  }
 ],
 "metadata": {
  "kernelspec": {
   "display_name": "Python 3",
   "language": "python",
   "name": "python3"
  },
  "language_info": {
   "codemirror_mode": {
    "name": "ipython",
    "version": 2
   },
   "file_extension": ".py",
   "mimetype": "text/x-python",
   "name": "python",
   "nbconvert_exporter": "python",
   "pygments_lexer": "ipython2",
   "version": "2.7.6"
  }
 },
 "nbformat": 4,
 "nbformat_minor": 0
}
