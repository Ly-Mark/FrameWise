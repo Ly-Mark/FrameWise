{
 "cells": [
  {
   "cell_type": "markdown",
   "source": [
    "# League of Legends: Exploring the Relationship Between Kills and Win Rate, Part 2: Linear Regression\n",
    "\n",
    "## Introduction to League of Legends\n",
    "\n",
    "In our previous article, we successfully prepared our dataset of historical player data spanning the 2011 to 2022 Worlds Championships of League of Legends.\n",
    "Our primary objective is to answer the following question:\n",
    "\n",
    "> What is the connection between a player's average number of kills per game and their corresponding win rate?\n",
    "\n",
    "From the previous correlation heatmap, there are a few variables that have strong and moderate correlations, one of which is **`kills`**.\n",
    "\n",
    "## Linear Regression"
   ],
   "metadata": {
    "collapsed": false
   }
  },
  {
   "cell_type": "code",
   "execution_count": 1,
   "metadata": {
    "collapsed": true,
    "ExecuteTime": {
     "end_time": "2023-07-25T09:34:11.942895400Z",
     "start_time": "2023-07-25T09:34:11.866525300Z"
    }
   },
   "outputs": [],
   "source": [
    "# Package importing\n",
    "\n",
    "import numpy as np\n",
    "import pandas as pd\n",
    "import seaborn as sns\n",
    "import missingno as msno\n",
    "import plotly.express as px\n"
   ]
  },
  {
   "cell_type": "code",
   "execution_count": 2,
   "outputs": [],
   "source": [
    "# Loading the Kaggle dataset\n",
    "df = pd.read_csv(\"E:\\ModelDiversity\\data\\players_stats.csv\")"
   ],
   "metadata": {
    "collapsed": false,
    "ExecuteTime": {
     "end_time": "2023-07-25T09:34:18.185060600Z",
     "start_time": "2023-07-25T09:34:18.158396100Z"
    }
   }
  },
  {
   "cell_type": "code",
   "execution_count": 3,
   "outputs": [],
   "source": [
    "# Subset missing values\n",
    "missing_values1 = df[df['season']<4]\n",
    "\n",
    "# calculating average team gold per team each season\n",
    "team_gold_1_3 = missing_values1.groupby(['season','team'])['gold'].sum().rename(\"team_gold\")\n",
    "\n",
    "# calculating average team kills per team each season\n",
    "team_kills_1_3 = missing_values1.groupby(['season','team'])['kills'].sum().rename(\"team_kills\")\n",
    "\n",
    "# merging team_gold and team_kills back into dataframe\n",
    "missing_values2 = missing_values1.merge(team_gold_1_3,how='outer',on=['season','team']).merge(team_kills_1_3,how='outer',on=['season','team'])\n",
    "\n",
    "# filling in the gold_share using the calculation above\n",
    "missing_values2['gold_share'] = round(missing_values2['gold']/missing_values2['team_gold'] * 100,2)\n",
    "\n",
    "# filling in the kill_share using the calculation above\n",
    "missing_values2['kill_share'] = round(missing_values2['kills']/missing_values2['team_kills'] * 100,2)\n",
    "\n",
    "# filling in the kill_participation using the calculation above\n",
    "missing_values2['kill_participation'] = round((missing_values2['kills']+missing_values2[\"assists\"])/missing_values2['team_kills'] *100,2)\n"
   ],
   "metadata": {
    "collapsed": false,
    "ExecuteTime": {
     "end_time": "2023-07-25T09:34:20.090645400Z",
     "start_time": "2023-07-25T09:34:20.079073100Z"
    }
   }
  },
  {
   "cell_type": "code",
   "execution_count": 4,
   "outputs": [],
   "source": [
    "# Updates our existing df\n",
    "df.update(missing_values2)"
   ],
   "metadata": {
    "collapsed": false,
    "ExecuteTime": {
     "end_time": "2023-07-25T09:34:21.970447600Z",
     "start_time": "2023-07-25T09:34:21.946784700Z"
    }
   }
  },
  {
   "cell_type": "code",
   "execution_count": 5,
   "outputs": [],
   "source": [
    "# subset your dataset to get no missing values\n",
    "df2 = df.drop(['damage','damage/min'],axis=1)"
   ],
   "metadata": {
    "collapsed": false,
    "ExecuteTime": {
     "end_time": "2023-07-25T09:34:23.606713500Z",
     "start_time": "2023-07-25T09:34:23.588436900Z"
    }
   }
  },
  {
   "cell_type": "code",
   "execution_count": 6,
   "outputs": [
    {
     "data": {
      "text/plain": "      season event                   team      player  games_played  wins  \\\n0          1  Main  Against_All_authority       Kujaa            12     7   \n1          1  Main  Against_All_authority       Linak            12     7   \n2          1  Main  Against_All_authority        MoMa            12     7   \n3          1  Main  Against_All_authority        sOAZ            12     7   \n4          1  Main  Against_All_authority  YellOwStaR            12     7   \n...      ...   ...                    ...         ...           ...   ...   \n1278      12  Main            Top_Esports  JackeyLove             6     3   \n1279      12  Main            Top_Esports      knight             6     3   \n1280      12  Main            Top_Esports        Mark             6     3   \n1281      12  Main            Top_Esports        Tian             6     3   \n1282      12  Main            Top_Esports     Wayward             6     3   \n\n      loses  win_rate  kills  deaths  assists  kill_death_assist_ratio  \\\n0         5      58.3   0.25    2.58     8.33                     3.32   \n1         5      58.3   1.75    3.58     7.67                     2.63   \n2         5      58.3   4.17    2.75     5.58                     3.55   \n3         5      58.3   4.00    2.92     7.08                     3.80   \n4         5      58.3   3.75    3.25     5.17                     2.74   \n...     ...       ...    ...     ...      ...                      ...   \n1278      3      50.0   5.33    2.33     5.17                     4.50   \n1279      3      50.0   4.33    1.17     5.50                     8.43   \n1280      3      50.0   1.17    2.00     9.33                     5.25   \n1281      3      50.0   1.83    2.33     7.33                     3.93   \n1282      3      50.0   1.00    4.00     4.50                     1.38   \n\n      creep_score  cs/min  gold  gold/min  kill_participation  kill_share  \\\n0           13.58    0.34   7.8       198               61.64        1.80   \n1          113.17    2.86  10.3       259               67.67       12.57   \n2          242.25    6.13  12.1       307               70.04       29.96   \n3          214.67    5.43  11.6       293               79.60       28.74   \n4          276.33    6.99  13.2       333               64.08       26.94   \n...           ...     ...   ...       ...                 ...         ...   \n1278       295.33    9.37  15.3       486               76.80       39.00   \n1279       283.50    8.99  13.9       442               72.00       31.70   \n1280        24.00    0.76   7.7       245               76.80        8.50   \n1281       174.00    5.52  10.5       332               67.10       13.40   \n1282       254.33    8.07  11.3       360               40.20        7.30   \n\n      gold_share  \n0          14.18  \n1          18.73  \n2          22.00  \n3          21.09  \n4          24.00  \n...          ...  \n1278       26.10  \n1279       23.70  \n1280       13.10  \n1281       17.80  \n1282       19.30  \n\n[1283 rows x 19 columns]",
      "text/html": "<div>\n<style scoped>\n    .dataframe tbody tr th:only-of-type {\n        vertical-align: middle;\n    }\n\n    .dataframe tbody tr th {\n        vertical-align: top;\n    }\n\n    .dataframe thead th {\n        text-align: right;\n    }\n</style>\n<table border=\"1\" class=\"dataframe\">\n  <thead>\n    <tr style=\"text-align: right;\">\n      <th></th>\n      <th>season</th>\n      <th>event</th>\n      <th>team</th>\n      <th>player</th>\n      <th>games_played</th>\n      <th>wins</th>\n      <th>loses</th>\n      <th>win_rate</th>\n      <th>kills</th>\n      <th>deaths</th>\n      <th>assists</th>\n      <th>kill_death_assist_ratio</th>\n      <th>creep_score</th>\n      <th>cs/min</th>\n      <th>gold</th>\n      <th>gold/min</th>\n      <th>kill_participation</th>\n      <th>kill_share</th>\n      <th>gold_share</th>\n    </tr>\n  </thead>\n  <tbody>\n    <tr>\n      <th>0</th>\n      <td>1</td>\n      <td>Main</td>\n      <td>Against_All_authority</td>\n      <td>Kujaa</td>\n      <td>12</td>\n      <td>7</td>\n      <td>5</td>\n      <td>58.3</td>\n      <td>0.25</td>\n      <td>2.58</td>\n      <td>8.33</td>\n      <td>3.32</td>\n      <td>13.58</td>\n      <td>0.34</td>\n      <td>7.8</td>\n      <td>198</td>\n      <td>61.64</td>\n      <td>1.80</td>\n      <td>14.18</td>\n    </tr>\n    <tr>\n      <th>1</th>\n      <td>1</td>\n      <td>Main</td>\n      <td>Against_All_authority</td>\n      <td>Linak</td>\n      <td>12</td>\n      <td>7</td>\n      <td>5</td>\n      <td>58.3</td>\n      <td>1.75</td>\n      <td>3.58</td>\n      <td>7.67</td>\n      <td>2.63</td>\n      <td>113.17</td>\n      <td>2.86</td>\n      <td>10.3</td>\n      <td>259</td>\n      <td>67.67</td>\n      <td>12.57</td>\n      <td>18.73</td>\n    </tr>\n    <tr>\n      <th>2</th>\n      <td>1</td>\n      <td>Main</td>\n      <td>Against_All_authority</td>\n      <td>MoMa</td>\n      <td>12</td>\n      <td>7</td>\n      <td>5</td>\n      <td>58.3</td>\n      <td>4.17</td>\n      <td>2.75</td>\n      <td>5.58</td>\n      <td>3.55</td>\n      <td>242.25</td>\n      <td>6.13</td>\n      <td>12.1</td>\n      <td>307</td>\n      <td>70.04</td>\n      <td>29.96</td>\n      <td>22.00</td>\n    </tr>\n    <tr>\n      <th>3</th>\n      <td>1</td>\n      <td>Main</td>\n      <td>Against_All_authority</td>\n      <td>sOAZ</td>\n      <td>12</td>\n      <td>7</td>\n      <td>5</td>\n      <td>58.3</td>\n      <td>4.00</td>\n      <td>2.92</td>\n      <td>7.08</td>\n      <td>3.80</td>\n      <td>214.67</td>\n      <td>5.43</td>\n      <td>11.6</td>\n      <td>293</td>\n      <td>79.60</td>\n      <td>28.74</td>\n      <td>21.09</td>\n    </tr>\n    <tr>\n      <th>4</th>\n      <td>1</td>\n      <td>Main</td>\n      <td>Against_All_authority</td>\n      <td>YellOwStaR</td>\n      <td>12</td>\n      <td>7</td>\n      <td>5</td>\n      <td>58.3</td>\n      <td>3.75</td>\n      <td>3.25</td>\n      <td>5.17</td>\n      <td>2.74</td>\n      <td>276.33</td>\n      <td>6.99</td>\n      <td>13.2</td>\n      <td>333</td>\n      <td>64.08</td>\n      <td>26.94</td>\n      <td>24.00</td>\n    </tr>\n    <tr>\n      <th>...</th>\n      <td>...</td>\n      <td>...</td>\n      <td>...</td>\n      <td>...</td>\n      <td>...</td>\n      <td>...</td>\n      <td>...</td>\n      <td>...</td>\n      <td>...</td>\n      <td>...</td>\n      <td>...</td>\n      <td>...</td>\n      <td>...</td>\n      <td>...</td>\n      <td>...</td>\n      <td>...</td>\n      <td>...</td>\n      <td>...</td>\n      <td>...</td>\n    </tr>\n    <tr>\n      <th>1278</th>\n      <td>12</td>\n      <td>Main</td>\n      <td>Top_Esports</td>\n      <td>JackeyLove</td>\n      <td>6</td>\n      <td>3</td>\n      <td>3</td>\n      <td>50.0</td>\n      <td>5.33</td>\n      <td>2.33</td>\n      <td>5.17</td>\n      <td>4.50</td>\n      <td>295.33</td>\n      <td>9.37</td>\n      <td>15.3</td>\n      <td>486</td>\n      <td>76.80</td>\n      <td>39.00</td>\n      <td>26.10</td>\n    </tr>\n    <tr>\n      <th>1279</th>\n      <td>12</td>\n      <td>Main</td>\n      <td>Top_Esports</td>\n      <td>knight</td>\n      <td>6</td>\n      <td>3</td>\n      <td>3</td>\n      <td>50.0</td>\n      <td>4.33</td>\n      <td>1.17</td>\n      <td>5.50</td>\n      <td>8.43</td>\n      <td>283.50</td>\n      <td>8.99</td>\n      <td>13.9</td>\n      <td>442</td>\n      <td>72.00</td>\n      <td>31.70</td>\n      <td>23.70</td>\n    </tr>\n    <tr>\n      <th>1280</th>\n      <td>12</td>\n      <td>Main</td>\n      <td>Top_Esports</td>\n      <td>Mark</td>\n      <td>6</td>\n      <td>3</td>\n      <td>3</td>\n      <td>50.0</td>\n      <td>1.17</td>\n      <td>2.00</td>\n      <td>9.33</td>\n      <td>5.25</td>\n      <td>24.00</td>\n      <td>0.76</td>\n      <td>7.7</td>\n      <td>245</td>\n      <td>76.80</td>\n      <td>8.50</td>\n      <td>13.10</td>\n    </tr>\n    <tr>\n      <th>1281</th>\n      <td>12</td>\n      <td>Main</td>\n      <td>Top_Esports</td>\n      <td>Tian</td>\n      <td>6</td>\n      <td>3</td>\n      <td>3</td>\n      <td>50.0</td>\n      <td>1.83</td>\n      <td>2.33</td>\n      <td>7.33</td>\n      <td>3.93</td>\n      <td>174.00</td>\n      <td>5.52</td>\n      <td>10.5</td>\n      <td>332</td>\n      <td>67.10</td>\n      <td>13.40</td>\n      <td>17.80</td>\n    </tr>\n    <tr>\n      <th>1282</th>\n      <td>12</td>\n      <td>Main</td>\n      <td>Top_Esports</td>\n      <td>Wayward</td>\n      <td>6</td>\n      <td>3</td>\n      <td>3</td>\n      <td>50.0</td>\n      <td>1.00</td>\n      <td>4.00</td>\n      <td>4.50</td>\n      <td>1.38</td>\n      <td>254.33</td>\n      <td>8.07</td>\n      <td>11.3</td>\n      <td>360</td>\n      <td>40.20</td>\n      <td>7.30</td>\n      <td>19.30</td>\n    </tr>\n  </tbody>\n</table>\n<p>1283 rows × 19 columns</p>\n</div>"
     },
     "execution_count": 6,
     "metadata": {},
     "output_type": "execute_result"
    }
   ],
   "source": [
    "df2"
   ],
   "metadata": {
    "collapsed": false,
    "ExecuteTime": {
     "end_time": "2023-07-25T09:34:27.533887400Z",
     "start_time": "2023-07-25T09:34:27.510210500Z"
    }
   }
  },
  {
   "cell_type": "code",
   "execution_count": null,
   "outputs": [],
   "source": [],
   "metadata": {
    "collapsed": false
   }
  }
 ],
 "metadata": {
  "kernelspec": {
   "display_name": "Python 3",
   "language": "python",
   "name": "python3"
  },
  "language_info": {
   "codemirror_mode": {
    "name": "ipython",
    "version": 2
   },
   "file_extension": ".py",
   "mimetype": "text/x-python",
   "name": "python",
   "nbconvert_exporter": "python",
   "pygments_lexer": "ipython2",
   "version": "2.7.6"
  }
 },
 "nbformat": 4,
 "nbformat_minor": 0
}
