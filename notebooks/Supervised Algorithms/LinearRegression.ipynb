{
 "cells": [
  {
   "cell_type": "markdown",
   "source": [
    "# League of Legends: Exploring the Relationship Between Kills and Win Rate\n",
    "\n",
    "## Introduction to League of Legends\n",
    "\n",
    "Since its release in 2009 by Riot Games, League of Legends has become a massively popular multiplayer online battle arena (MOBA) game. It features intense team-based gameplay where two teams of five players compete to destroy the opposing team's Nexus, the main structure. Each player takes control of a unique Champion, each with their own distinct abilities and playstyle, adding depth and strategic complexity to the game. But League of Legends is more than just a game—it has been a driving force behind the meteoric rise of competitive esports.\n",
    "\n",
    "Esports has revolutionized the world of gaming, transforming it into a realm of professional competition with massive prize pools and devoted fan bases. League of Legends has been at the forefront of this esports revolution, attracting millions of viewers worldwide and offering astonishing prize pools for its tournaments. The League of Legends World Championship, for example, boasted a staggering prize pool of $2,225,000 USD in 2022, solidifying the game's position as a cornerstone of the esports industry.\n",
    "\n",
    "## Goal of the Project\n",
    "\n",
    "Our project's goal is to discover meaningful relationships that can help us predict match outcomes in League of Legends. Specifically, we aim to answer the question: \"What is the connection between a player's average number of kills per game and their corresponding win rate?\""
   ],
   "metadata": {
    "collapsed": false
   }
  },
  {
   "cell_type": "markdown",
   "source": [
    "## Data Preparation\n",
    "\n",
    "The data we will be using for this project is complied by Pedro Cesar on Kaggle and is scrapped from https://lol.fandom.com/ to get historical match data, historical player data and, historical champion data from the 2011 worlds to 2022 worlds. For this project we will be using the historical player data."
   ],
   "metadata": {
    "collapsed": false
   }
  },
  {
   "cell_type": "code",
   "execution_count": 8,
   "outputs": [],
   "source": [
    "df = pd.read_csv(\"E:\\ModelDiversity\\data\\players_stats.csv\")"
   ],
   "metadata": {
    "collapsed": false,
    "ExecuteTime": {
     "end_time": "2023-07-09T23:59:20.488040800Z",
     "start_time": "2023-07-09T23:59:20.470039900Z"
    }
   }
  },
  {
   "cell_type": "code",
   "execution_count": 10,
   "outputs": [
    {
     "data": {
      "text/plain": "(1283, 21)"
     },
     "execution_count": 10,
     "metadata": {},
     "output_type": "execute_result"
    }
   ],
   "source": [
    "df.shape"
   ],
   "metadata": {
    "collapsed": false,
    "ExecuteTime": {
     "end_time": "2023-07-09T23:59:36.039337700Z",
     "start_time": "2023-07-09T23:59:36.024087300Z"
    }
   }
  },
  {
   "cell_type": "markdown",
   "source": [
    "## Variables Dictionary\n",
    "\n",
    "We have 21 different variables in this dataset which are defined below:\n",
    "\n",
    "`season` - the championship season. 1 = 2011 which is the first Worlds\n",
    "`event` - Main stage event or play-in\n",
    "`team` - team name\n",
    "`player` - player name\n",
    "`games_played` - number of games played in the tournament season\n",
    "`wins` - number of wins throughout the tournament season\n",
    "`loses` - number of loses throughout the tournament season\n",
    "`win_rate` - how many successful wins throughout all the matches played throughout the tournament\n",
    "`kills` - average number of kills per game throughout the tournament\n",
    "`deaths` - average number of deaths per game throughout the tournament\n",
    "`assists` - average number of assists per game throughout the tournament\n",
    "`kill_death_assist_ratio` - KDA kills + assists divided by deaths\n",
    "`creep_score` - average number of \"minion's\" that were killed per game throughout the tournament\n",
    "`cs/min` - average creep score per minute per game throughout the tournament\n",
    "`gold` - average gold earned per game throughout the tournament\n",
    "`gold/min` - average gold earned per minute per game throughout the tournament\n",
    "`damage` - average damage done per game throughout the tournament\n",
    "`damage/min` - average damage done per minute per game throughout the tournament\n",
    "`kill_participation` - average kills + assists / total team kills pre game throughout the tournament\n",
    "`kill_share` - average kills / total team kills per game throughout the tournament\n",
    "`gold_share` - average gold / total team gold per game throughout the tournament"
   ],
   "metadata": {
    "collapsed": false
   }
  },
  {
   "cell_type": "markdown",
   "source": [
    "## Packages\n",
    "\n",
    "This project will utilize the following packages for data analysis, visualization, and model creation:\n",
    "\n",
    "1. pandas - Data wrangling\n",
    "2. numpy - Filling in missing data\n",
    "3. seaborn - data visualization"
   ],
   "metadata": {
    "collapsed": false
   }
  },
  {
   "cell_type": "code",
   "execution_count": null,
   "outputs": [],
   "source": [
    "import pandas as np\n",
    "import numpy as np\n",
    "import pandas as pd\n",
    "import seaborn as sns"
   ],
   "metadata": {
    "collapsed": false
   }
  },
  {
   "cell_type": "markdown",
   "source": [
    "## Missing Data and Outliers\n",
    "\n",
    "We can use pandas to get a summary of the missing values using the `.info()`"
   ],
   "metadata": {
    "collapsed": false
   }
  },
  {
   "cell_type": "code",
   "execution_count": 14,
   "outputs": [
    {
     "name": "stdout",
     "output_type": "stream",
     "text": [
      "<class 'pandas.core.frame.DataFrame'>\n",
      "RangeIndex: 1283 entries, 0 to 1282\n",
      "Data columns (total 21 columns):\n",
      " #   Column                   Non-Null Count  Dtype  \n",
      "---  ------                   --------------  -----  \n",
      " 0   season                   1283 non-null   int64  \n",
      " 1   event                    1283 non-null   object \n",
      " 2   team                     1283 non-null   object \n",
      " 3   player                   1283 non-null   object \n",
      " 4   games_played             1283 non-null   int64  \n",
      " 5   wins                     1283 non-null   int64  \n",
      " 6   loses                    1283 non-null   int64  \n",
      " 7   win_rate                 1283 non-null   float64\n",
      " 8   kills                    1283 non-null   float64\n",
      " 9   deaths                   1283 non-null   float64\n",
      " 10  assists                  1283 non-null   float64\n",
      " 11  kill_death_assist_ratio  1283 non-null   float64\n",
      " 12  creep_score              1283 non-null   float64\n",
      " 13  cs/min                   1283 non-null   float64\n",
      " 14  gold                     1283 non-null   float64\n",
      " 15  gold/min                 1283 non-null   int64  \n",
      " 16  damage                   409 non-null    float64\n",
      " 17  damage/min               409 non-null    float64\n",
      " 18  kill_participation       1111 non-null   float64\n",
      " 19  kill_share               1111 non-null   float64\n",
      " 20  gold_share               1111 non-null   float64\n",
      "dtypes: float64(13), int64(5), object(3)\n",
      "memory usage: 210.6+ KB\n"
     ]
    }
   ],
   "source": [
    "df.info()"
   ],
   "metadata": {
    "collapsed": false,
    "ExecuteTime": {
     "end_time": "2023-07-10T07:13:34.347896300Z",
     "start_time": "2023-07-10T07:13:34.337026500Z"
    }
   }
  },
  {
   "cell_type": "markdown",
   "source": [
    "We can get the percentage of missing values using `isnull()` and `sum()`"
   ],
   "metadata": {
    "collapsed": false
   }
  },
  {
   "cell_type": "code",
   "execution_count": 15,
   "outputs": [
    {
     "data": {
      "text/plain": "damage/min                 68.12159\ndamage                     68.12159\ngold_share                 13.40608\nkill_share                 13.40608\nkill_participation         13.40608\nkill_death_assist_ratio     0.00000\ngold/min                    0.00000\ngold                        0.00000\ncs/min                      0.00000\ncreep_score                 0.00000\nseason                      0.00000\nevent                       0.00000\ndeaths                      0.00000\nkills                       0.00000\nwin_rate                    0.00000\nloses                       0.00000\nwins                        0.00000\ngames_played                0.00000\nplayer                      0.00000\nteam                        0.00000\nassists                     0.00000\ndtype: float64"
     },
     "execution_count": 15,
     "metadata": {},
     "output_type": "execute_result"
    }
   ],
   "source": [
    "(df.isnull().sum() / df.shape[0]).sort_values(ascending=False) * 100"
   ],
   "metadata": {
    "collapsed": false,
    "ExecuteTime": {
     "end_time": "2023-07-10T07:16:32.114702300Z",
     "start_time": "2023-07-10T07:16:32.097694400Z"
    }
   }
  },
  {
   "cell_type": "markdown",
   "source": [
    "In this dataset, data for `kill_participation`, `kill_share`, and `gold_share` was not calculated until 4th worlds tournament in 2014. We are missing 13.4% of the data in these 3 categories. We can easily calculate each of these parameters using numpy.\n",
    "\n",
    "Damage and Damage/min are a different story. These two variables were not tracked until recently starting at the 10th worlds tournament in 2020. We are missing 68.1% of these metrics in our current dataset. We can see if we can find other sources of data to fill in this statistic."
   ],
   "metadata": {
    "collapsed": false
   }
  },
  {
   "cell_type": "markdown",
   "source": [
    "> Note: This is not necessary for our current research question but will be once we look at other models such a multi-linear regression."
   ],
   "metadata": {
    "collapsed": false
   }
  },
  {
   "cell_type": "code",
   "execution_count": 7,
   "outputs": [
    {
     "data": {
      "text/plain": "damage/min                 68.12159\ndamage                     68.12159\ngold_share                 13.40608\nkill_share                 13.40608\nkill_participation         13.40608\nkill_death_assist_ratio     0.00000\ngold/min                    0.00000\ngold                        0.00000\ncs/min                      0.00000\ncreep_score                 0.00000\nseason                      0.00000\nevent                       0.00000\ndeaths                      0.00000\nkills                       0.00000\nwin_rate                    0.00000\nloses                       0.00000\nwins                        0.00000\ngames_played                0.00000\nplayer                      0.00000\nteam                        0.00000\nassists                     0.00000\ndtype: float64"
     },
     "execution_count": 7,
     "metadata": {},
     "output_type": "execute_result"
    }
   ],
   "source": [
    "(df.isnull().sum() / df.shape[0]).sort_values(ascending=False) * 100"
   ],
   "metadata": {
    "collapsed": false,
    "ExecuteTime": {
     "end_time": "2023-07-09T20:22:07.899033900Z",
     "start_time": "2023-07-09T20:22:07.883032Z"
    }
   }
  },
  {
   "cell_type": "code",
   "execution_count": null,
   "outputs": [],
   "source": [],
   "metadata": {
    "collapsed": false
   }
  }
 ],
 "metadata": {
  "kernelspec": {
   "display_name": "Python 3",
   "language": "python",
   "name": "python3"
  },
  "language_info": {
   "codemirror_mode": {
    "name": "ipython",
    "version": 2
   },
   "file_extension": ".py",
   "mimetype": "text/x-python",
   "name": "python",
   "nbconvert_exporter": "python",
   "pygments_lexer": "ipython2",
   "version": "2.7.6"
  }
 },
 "nbformat": 4,
 "nbformat_minor": 0
}
