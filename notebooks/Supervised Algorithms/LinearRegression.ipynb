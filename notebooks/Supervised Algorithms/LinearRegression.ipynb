{
 "cells": [
  {
   "cell_type": "markdown",
   "source": [
    "# League of Legends: Exploring the Relationship Between Kills and Win Rate\n",
    "\n",
    "## Introduction to League of Legends\n",
    "\n",
    "Since its release in 2009 by Riot Games, League of Legends has become a massively popular multiplayer online battle arena (MOBA) game. It features intense team-based gameplay where two teams of five players compete to destroy the opposing team's Nexus, the main structure. Each player takes control of a unique Champion, each with their own distinct abilities and playstyle, adding depth and strategic complexity to the game. But League of Legends is more than just a game—it has been a driving force behind the meteoric rise of competitive esports.\n",
    "\n",
    "Esports has revolutionized the world of gaming, transforming it into a realm of professional competition with massive prize pools and devoted fan bases. League of Legends has been at the forefront of this esports revolution, attracting millions of viewers worldwide and offering astonishing prize pools for its tournaments. The League of Legends World Championship, for example, boasted a staggering prize pool of $2,225,000 USD in 2022, solidifying the game's position as a cornerstone of the esports industry.\n",
    "\n",
    "## Goal of the Project\n",
    "\n",
    "Our project's goal is to discover meaningful relationships that can help us predict match outcomes in League of Legends. Specifically, we aim to answer the question: \"What is the connection between a player's average number of kills per game and their corresponding win rate?\""
   ],
   "metadata": {
    "collapsed": false
   }
  },
  {
   "cell_type": "markdown",
   "source": [
    "## Data Preparation\n",
    "\n",
    "The data we will be using for this project is complied by Pedro Cesar on Kaggle and is scrapped from https://lol.fandom.com/ to get historical match data, historical player data and, historical champion data from the 2011 worlds to 2022 worlds. For this project we will be using the historical player data.\n",
    "\n",
    "## Variables Dictionary\n",
    "`season` - the championship season. 1 = 2011 which is the first Worlds\n",
    "`event` - Main stage event or play-in\n",
    "`team` - team name\n",
    "`player` - player name\n",
    "`games_played` - number of games played in the tournament season\n",
    "`wins` - number of wins throughout the tournament season\n",
    "`loses` - number of loses throughout the tournament season\n",
    "`win_rate` - how many successful wins throughout all the matches played throughout the tournament\n",
    "`kills` - average number of kills per game throughout the tournament\n",
    "`deaths` - average number of deaths per game throughout the tournament\n",
    "`assists` - average number of assists per game throughout the tournament\n",
    "`kill_death_assist_ratio` - KDA kills + assists divided by deaths\n",
    "`creep_score` - average number of \"minion's\" that were killed per game throughout the tournament\n",
    "`cs/min` - average creep score per minute per game throughout the tournament\n",
    "`gold` - average gold earned per game throughout the tournament\n",
    "`gold/min` - average gold earned per minute per game throughout the tournament\n",
    "`damage` - average damage done per game throughout the tournament\n",
    "`damage/min` - average damage done per minute per game throughout the tournament\n",
    "`kill_participation` - average kills + assists / total team kills pre game throughout the tournament\n",
    "`kill_share` - average kills / total kills per game throughout the tournament\n",
    " `gold_share` - "
   ],
   "metadata": {
    "collapsed": false
   }
  },
  {
   "cell_type": "markdown",
   "source": [],
   "metadata": {
    "collapsed": false
   }
  },
  {
   "cell_type": "code",
   "execution_count": null,
   "metadata": {
    "collapsed": true
   },
   "outputs": [],
   "source": []
  }
 ],
 "metadata": {
  "kernelspec": {
   "display_name": "Python 3",
   "language": "python",
   "name": "python3"
  },
  "language_info": {
   "codemirror_mode": {
    "name": "ipython",
    "version": 2
   },
   "file_extension": ".py",
   "mimetype": "text/x-python",
   "name": "python",
   "nbconvert_exporter": "python",
   "pygments_lexer": "ipython2",
   "version": "2.7.6"
  }
 },
 "nbformat": 4,
 "nbformat_minor": 0
}
